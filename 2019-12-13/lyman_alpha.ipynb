{
 "cells": [
  {
   "cell_type": "code",
   "execution_count": 14,
   "metadata": {},
   "outputs": [],
   "source": [
    "import numpy as np\n",
    "from classy import Class\n",
    "\n",
    "# initialize class\n",
    "cosmo = Class()\n",
    "\n",
    "# Planck 2018 parameters from https://arxiv.org/pdf/1807.06209.pdf\n",
    "parameters = {'omega_b': 0.02233,\n",
    "              'omega_cdm': 0.1198,\n",
    "              'h': 0.6737,\n",
    "              'A_s':2.097E-9,\n",
    "              'n_s':0.9652,\n",
    "              'tau_reio':0.0540}\n",
    "\n",
    "# set the class parameters \n",
    "cosmo.set({'output':'mPk',\n",
    "           \"P_k_max_1/Mpc\":10.0,\n",
    "           **parameters})\n",
    "\n",
    "# run class\n",
    "cosmo.compute()\n",
    "\n",
    "# set up an array for k\n",
    "k_min = 0.1\n",
    "k_max = 5\n",
    "n_points = 100\n",
    "\n",
    "K = np.logspace(np.log(k_min), np.log10(k_max), n_points) \n",
    "\n",
    "#calculate Pk at all k values (note the normalization for k and P_k\n",
    "h = parameters[\"h\"]\n",
    "P_k = [cosmo.pk(k*h, 0)*h**3 for k in K]"
   ]
  },
  {
   "cell_type": "code",
   "execution_count": 24,
   "metadata": {},
   "outputs": [
    {
     "data": {
      "text/plain": [
       "Text(0, 0.5, 'p(k)')"
      ]
     },
     "execution_count": 24,
     "metadata": {},
     "output_type": "execute_result"
    },
    {
     "data": {
      "image/png": "[encoded data removed]",
      "text/plain": [
       "<Figure size 432x288 with 1 Axes>"
      ]
     },
     "metadata": {
      "needs_background": "light"
     },
     "output_type": "display_data"
    }
   ],
   "source": [
    "%matplotlib inline\n",
    "import matplotlib.pyplot as plt\n",
    "\n",
    "data = np.loadtxt('../data/lyman-alpha.txt')\n",
    "data[:, 0] /= h  # renormalize k, because \n",
    "\n",
    "plt.loglog(K, P_k)\n",
    "plt.errorbar(*data.T, marker='o', ms=3, ls='none')\n",
    "plt.xlabel('k [1/Mpc]')\n",
    "plt.ylabel('p(k)')"
   ]
  },
  {
   "cell_type": "markdown",
   "metadata": {},
   "source": [
    "Add real data points to the above plot! "
   ]
  },
  {
   "cell_type": "code",
   "execution_count": null,
   "metadata": {},
   "outputs": [],
   "source": []
  }
 ],
 "metadata": {
  "kernelspec": {
   "display_name": "Python 3",
   "language": "python",
   "name": "python3"
  },
  "language_info": {
   "codemirror_mode": {
    "name": "ipython",
    "version": 3
   },
   "file_extension": ".py",
   "mimetype": "text/x-python",
   "name": "python",
   "nbconvert_exporter": "python",
   "pygments_lexer": "ipython3",
   "version": "3.7.5"
  }
 },
 "nbformat": 4,
 "nbformat_minor": 4
}
